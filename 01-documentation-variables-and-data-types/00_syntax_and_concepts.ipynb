{
 "cells": [
  {
   "cell_type": "markdown",
   "id": "1c0d328c",
   "metadata": {},
   "source": [
    "#"
   ]
  },
  {
   "cell_type": "markdown",
   "id": "9726e22a",
   "metadata": {},
   "source": [
    "### Syntax & Concepts:\n",
    "# Documentation, Variables, and Data Types\n",
    "Before class, read through this page. Try running each block of code and try to understand what the code is doing. Try to replicate \n",
    "\n",
    "### Don't understand something?\n",
    "- \n",
    "```\n",
    "I am a beginner in an introductory Python programming course. When I\n",
    "ask questions or describe a concept, please respond as my tutor by\n",
    "explaining in simple, easy-to-understand language. Correct any mistakes\n",
    "I make and help clarify misconceptions. You can use examples or\n",
    "metaphors to help explain concepts when needed. Let me know if my\n",
    "understanding is correct or where I might be going wrong.\n",
    "```"
   ]
  },
  {
   "cell_type": "markdown",
   "id": "02e95264",
   "metadata": {},
   "source": [
    "## 1. Comments\n"
   ]
  },
  {
   "cell_type": "code",
   "execution_count": 2,
   "id": "084a8cc6",
   "metadata": {},
   "outputs": [
    {
     "name": "stdout",
     "output_type": "stream",
     "text": [
      "hello world\n"
     ]
    }
   ],
   "source": [
    "# use the hashtag for a single comment\n",
    "print(\"hello world\")"
   ]
  },
  {
   "cell_type": "markdown",
   "id": "d057e164",
   "metadata": {},
   "source": [
    "# print() lets you display things in your terminal window"
   ]
  },
  {
   "cell_type": "code",
   "execution_count": 4,
   "id": "372eea80",
   "metadata": {},
   "outputs": [
    {
     "name": "stdout",
     "output_type": "stream",
     "text": [
      "ello world\n"
     ]
    }
   ],
   "source": [
    "print(\"ello world\")"
   ]
  },
  {
   "cell_type": "code",
   "execution_count": null,
   "id": "2dab5164",
   "metadata": {},
   "outputs": [],
   "source": []
  }
 ],
 "metadata": {
  "kernelspec": {
   "display_name": "Python 3",
   "language": "python",
   "name": "python3"
  },
  "language_info": {
   "codemirror_mode": {
    "name": "ipython",
    "version": 3
   },
   "file_extension": ".py",
   "mimetype": "text/x-python",
   "name": "python",
   "nbconvert_exporter": "python",
   "pygments_lexer": "ipython3",
   "version": "3.12.5"
  }
 },
 "nbformat": 4,
 "nbformat_minor": 5
}
